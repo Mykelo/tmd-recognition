{
 "cells": [
  {
   "cell_type": "code",
   "execution_count": 1,
   "metadata": {},
   "outputs": [],
   "source": [
    "%load_ext autoreload\n",
    "%autoreload 2\n",
    "import sys\n",
    "sys.path.insert(0, '../..')\n",
    "\n",
    "import os\n",
    "from src.images.datasets import get_denta_labels, get_dynamic_features\n",
    "from src.images.preprocess import extract_faces_denta, extract_landmarks\n",
    "from src.images.detector import get_face_detector\n",
    "import src.images.utils as utils\n"
   ]
  },
  {
   "attachments": {},
   "cell_type": "markdown",
   "metadata": {},
   "source": [
    "# Features and estimators"
   ]
  },
  {
   "cell_type": "markdown",
   "metadata": {},
   "source": [
    "Load dynamic features first."
   ]
  },
  {
   "cell_type": "code",
   "execution_count": 2,
   "metadata": {},
   "outputs": [],
   "source": [
    "dynamic_data = get_dynamic_features('../../data/denta_v1/ex3_data.csv')"
   ]
  },
  {
   "cell_type": "code",
   "execution_count": 3,
   "metadata": {},
   "outputs": [],
   "source": [
    "from src.images.features import (\n",
    "    KarolewskiFilteredFeaturesExtractor,\n",
    "    EmptyFeaturesExtractor\n",
    ")\n",
    "from src.images.method_experiments import estimators\n",
    "\n",
    "features = [\n",
    "    {\n",
    "        'name': 'Dynamic',\n",
    "        'cls': EmptyFeaturesExtractor,\n",
    "        'extra_features': dynamic_data,\n",
    "        'add_extra_features': True,\n",
    "    },\n",
    "    {\n",
    "        'name': 'KarolewskiFiltered+Dynamic',\n",
    "        'cls': KarolewskiFilteredFeaturesExtractor,\n",
    "        'extra_features': dynamic_data,\n",
    "        'add_extra_features': True,\n",
    "    },\n",
    "    {\n",
    "        'name': 'KarolewskiFiltered',\n",
    "        'cls': KarolewskiFilteredFeaturesExtractor\n",
    "    },\n",
    "]"
   ]
  },
  {
   "attachments": {},
   "cell_type": "markdown",
   "metadata": {},
   "source": [
    "# Denta"
   ]
  },
  {
   "cell_type": "code",
   "execution_count": 4,
   "metadata": {},
   "outputs": [],
   "source": [
    "denta_df = get_denta_labels('../../data/denta_v1', split_type='random')\n",
    "denta_data_path = os.path.join('..', '..', 'experiments', 'images_results')\n"
   ]
  },
  {
   "cell_type": "code",
   "execution_count": 8,
   "metadata": {},
   "outputs": [
    {
     "name": "stderr",
     "output_type": "stream",
     "text": [
      "100%|██████████| 258/258 [00:27<00:00,  9.51it/s]\n",
      "Lightning automatically upgraded your loaded checkpoint from v1.5.10 to v2.0.4. To apply the upgrade to your files permanently, run `python -m pytorch_lightning.utilities.upgrade_checkpoint --file d:\\Users\\micha\\Documents\\Side projects\\tmd-recognition\\data\\snapshots\\WFLW\\pip_32_16_60_r101_l2_l1_10_1_nb10.ckpt`\n",
      "100%|██████████| 258/258 [00:50<00:00,  5.10it/s]\n"
     ]
    }
   ],
   "source": [
    "app = get_face_detector()\n",
    "extract_faces_denta('../../data/denta_v1', denta_df, detector=lambda image: app.get(image))\n",
    "extract_landmarks('../../data/denta_v1', denta_df)\n"
   ]
  },
  {
   "attachments": {},
   "cell_type": "markdown",
   "metadata": {},
   "source": [
    "## Features preparation"
   ]
  },
  {
   "cell_type": "code",
   "execution_count": 10,
   "metadata": {},
   "outputs": [
    {
     "name": "stderr",
     "output_type": "stream",
     "text": [
      "100%|██████████| 258/258 [00:00<00:00, 693.48it/s]\n",
      "100%|██████████| 258/258 [00:00<00:00, 351.77it/s]\n",
      "100%|██████████| 258/258 [00:00<00:00, 345.24it/s]\n",
      "100%|██████████| 258/258 [00:00<00:00, 716.60it/s]\n",
      "100%|██████████| 258/258 [00:00<00:00, 348.56it/s]\n",
      "100%|██████████| 258/258 [00:00<00:00, 351.02it/s]\n"
     ]
    }
   ],
   "source": [
    "from src.images.method_experiments import prepare_features\n",
    "\n",
    "features_denta_0_32 = prepare_features('../../data/denta_v1', features, df=denta_df, reference_points=(0, 32))\n",
    "features_denta_64_68 = prepare_features('../../data/denta_v1', features, df=denta_df, reference_points=(64, 68))"
   ]
  },
  {
   "attachments": {},
   "cell_type": "markdown",
   "metadata": {},
   "source": [
    "## Aggregation tests"
   ]
  },
  {
   "cell_type": "code",
   "execution_count": null,
   "metadata": {},
   "outputs": [],
   "source": [
    "from src.images.method_experiments import test_concat_vs_avg\n",
    "\n",
    "agg_tests = test_concat_vs_avg(estimators, features_denta_64_68, cv=5, stratified=True, iterations=40)\n",
    "utils.save_pickle(os.path.join(denta_data_path, 'aggregation_5fold_64_68.pkl'), agg_tests)"
   ]
  },
  {
   "cell_type": "code",
   "execution_count": 19,
   "metadata": {},
   "outputs": [
    {
     "name": "stderr",
     "output_type": "stream",
     "text": [
      "100%|██████████| 1440/1440 [01:39<00:00, 14.46it/s]\n"
     ]
    }
   ],
   "source": [
    "from src.images.method_experiments import test_concat_vs_avg\n",
    "\n",
    "agg_tests = test_concat_vs_avg(estimators, features_denta_0_32, cv=5, stratified=True, iterations=40)\n",
    "utils.save_pickle(os.path.join(denta_data_path, 'aggregation_5fold_0_32.pkl'), agg_tests)"
   ]
  },
  {
   "cell_type": "code",
   "execution_count": 21,
   "metadata": {},
   "outputs": [
    {
     "name": "stderr",
     "output_type": "stream",
     "text": [
      "100%|██████████| 1800/1800 [00:12<00:00, 146.15it/s]\n"
     ]
    }
   ],
   "source": [
    "from src.images.method_experiments import test_concat_vs_avg, dummy_estimators\n",
    "\n",
    "agg_tests = test_concat_vs_avg(dummy_estimators, features_denta_0_32, cv=5, stratified=True, iterations=50)\n",
    "utils.save_pickle(os.path.join(denta_data_path, 'dummy_aggregation_5fold.pkl'), agg_tests)"
   ]
  }
 ],
 "metadata": {
  "kernelspec": {
   "display_name": "Python 3.10.6 ('dnz')",
   "language": "python",
   "name": "python3"
  },
  "language_info": {
   "codemirror_mode": {
    "name": "ipython",
    "version": 3
   },
   "file_extension": ".py",
   "mimetype": "text/x-python",
   "name": "python",
   "nbconvert_exporter": "python",
   "pygments_lexer": "ipython3",
   "version": "3.10.11"
  },
  "orig_nbformat": 4,
  "vscode": {
   "interpreter": {
    "hash": "588c1bd5bac10778a1a64965a9893cf7380d8162a2a11980fff7941942b83e55"
   }
  }
 },
 "nbformat": 4,
 "nbformat_minor": 2
}
