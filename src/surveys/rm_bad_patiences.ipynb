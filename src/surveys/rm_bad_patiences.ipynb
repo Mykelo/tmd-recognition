{
 "cells": [
  {
   "cell_type": "code",
   "execution_count": 1,
   "metadata": {},
   "outputs": [],
   "source": [
    "import pandas as pd"
   ]
  },
  {
   "cell_type": "code",
   "execution_count": 2,
   "metadata": {},
   "outputs": [],
   "source": [
    "df_fixed = pd.read_csv('fixed.csv')\n",
    "df_data = pd.read_csv('data_13_06_2023.csv')[['Id', 'Diagnosis']]\n",
    "df_finally = pd.read_csv('df_finally.csv', index_col=0)\n",
    "del df_fixed['Diagnosis']\n",
    "del df_finally['Diagnosis']"
   ]
  },
  {
   "cell_type": "code",
   "execution_count": 3,
   "metadata": {},
   "outputs": [
    {
     "data": {
      "text/plain": [
       "((97, 150), (86, 2), (97, 368))"
      ]
     },
     "execution_count": 3,
     "metadata": {},
     "output_type": "execute_result"
    }
   ],
   "source": [
    "df_fixed.shape, df_data.shape, df_finally.shape"
   ]
  },
  {
   "cell_type": "code",
   "execution_count": 4,
   "metadata": {},
   "outputs": [],
   "source": [
    "df_fixed = df_fixed.join(df_data.set_index('Id'), on='Id')\n",
    "df_finally['Diagnosis'] = df_fixed['Diagnosis']\n",
    "bad_indexes = df_fixed[~df_fixed['Id'].isin(list(df_data['Id']))].index\n",
    "df_finally = df_finally.drop(bad_indexes).reset_index(drop=True)\n",
    "df_finally.to_csv('df_finally_without_bad.csv', index=True)  "
   ]
  }
 ],
 "metadata": {
  "kernelspec": {
   "display_name": "venv",
   "language": "python",
   "name": "python3"
  },
  "language_info": {
   "codemirror_mode": {
    "name": "ipython",
    "version": 3
   },
   "file_extension": ".py",
   "mimetype": "text/x-python",
   "name": "python",
   "nbconvert_exporter": "python",
   "pygments_lexer": "ipython3",
   "version": "3.11.2"
  },
  "orig_nbformat": 4
 },
 "nbformat": 4,
 "nbformat_minor": 2
}
