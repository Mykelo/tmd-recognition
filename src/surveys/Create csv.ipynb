{
 "cells": [
  {
   "cell_type": "code",
   "execution_count": 1,
   "id": "37990e5d",
   "metadata": {
    "ExecuteTime": {
     "end_time": "2023-06-19T13:14:28.792084Z",
     "start_time": "2023-06-19T13:14:28.744119Z"
    }
   },
   "outputs": [],
   "source": [
    "import pandas as pd\n",
    "import ast\n",
    "\n",
    "from sklearn.preprocessing import MultiLabelBinarizer"
   ]
  },
  {
   "cell_type": "code",
   "execution_count": 2,
   "id": "e0ec3b80",
   "metadata": {
    "ExecuteTime": {
     "end_time": "2023-06-19T13:15:42.926256Z",
     "start_time": "2023-06-19T13:15:42.882444Z"
    }
   },
   "outputs": [],
   "source": [
    "df = pd.read_csv('fixed.csv')"
   ]
  },
  {
   "cell_type": "code",
   "execution_count": 8,
   "id": "2f598a5e",
   "metadata": {
    "ExecuteTime": {
     "end_time": "2023-06-19T13:15:43.158469Z",
     "start_time": "2023-06-19T13:15:43.157942Z"
    }
   },
   "outputs": [],
   "source": [
    "def getSimpleColumns(df, columns):\n",
    "    simple_columns = list(df.columns)\n",
    "    for key in columns:\n",
    "        simple_columns = filter(lambda simple_column: (simple_column not in columns[key]), simple_columns)\n",
    "        simple_columns = list(simple_columns)\n",
    "    return simple_columns"
   ]
  },
  {
   "cell_type": "code",
   "execution_count": 10,
   "id": "148951d9",
   "metadata": {
    "ExecuteTime": {
     "end_time": "2023-06-19T13:16:01.962067Z",
     "start_time": "2023-06-19T13:16:01.918047Z"
    }
   },
   "outputs": [],
   "source": [
    "columns = {}\n",
    "columns['floats'] = ['O', 'C', 'E', 'A', 'N']\n",
    "columns['data'] = ['user_id', 'survey_id', 'person', 'personality_score', 'diagnosis', 'main_disease', 'Id']\n",
    "columns['lists'] = ['s2.q6', 's3.q16', 'S9.q9', 's3.q10_1', 's3.q6_1'] \n",
    "columns['ailment_maps'] = ['ailment_maps.face_profile', 'ailment_maps.body_back', 'ailment_maps.body_front', 'ailment_maps.face_front']\n",
    "columns['Diagnosis'] = ['Diagnosis']\n",
    "columns['dates'] = ['s2.q4_1_1', 's2.q4_2_1']\n",
    "columns['simple_columns'] = getSimpleColumns(df, columns)"
   ]
  },
  {
   "cell_type": "code",
   "execution_count": 30,
   "id": "5fc9c0d7",
   "metadata": {
    "ExecuteTime": {
     "end_time": "2023-06-19T13:19:31.515873Z",
     "start_time": "2023-06-19T13:19:31.511346Z"
    },
    "collapsed": false
   },
   "outputs": [],
   "source": [
    "def convertDFWithStringOfListToDFWithList(df):\n",
    "    for column in df.columns:\n",
    "        df[column] = getListFromStringOfList(list(df[column]))\n",
    "    return df"
   ]
  },
  {
   "cell_type": "code",
   "execution_count": 31,
   "id": "a00e02f3",
   "metadata": {
    "ExecuteTime": {
     "end_time": "2023-06-19T13:19:32.915505Z",
     "start_time": "2023-06-19T13:19:32.910900Z"
    },
    "collapsed": false
   },
   "outputs": [],
   "source": [
    "def getListFromStringOfList(array):\n",
    "    listOfList = []\n",
    "    for stringOfList in array:\n",
    "        listOfList.append(ast.literal_eval(stringOfList))\n",
    "    return listOfList"
   ]
  },
  {
   "cell_type": "code",
   "execution_count": 32,
   "id": "8666adc7",
   "metadata": {
    "ExecuteTime": {
     "end_time": "2023-06-19T13:19:35.838125Z",
     "start_time": "2023-06-19T13:19:35.836412Z"
    }
   },
   "outputs": [],
   "source": [
    "df_list = df[columns['lists']]\n",
    "df_list = df_list.fillna('[]')\n",
    "df_list = convertDFWithStringOfListToDFWithList(df_list)\n",
    "\n",
    "df_simple = df[columns['simple_columns']]\n",
    "df_simple = df_simple.fillna(-1)"
   ]
  },
  {
   "cell_type": "code",
   "execution_count": 29,
   "id": "5cdb43f2",
   "metadata": {
    "ExecuteTime": {
     "end_time": "2023-06-19T13:17:36.742231Z",
     "start_time": "2023-06-19T13:17:36.698558Z"
    }
   },
   "outputs": [],
   "source": [
    "df_simple['s3.q6'].loc[65] = '0'\n",
    "df_simple['s3.q6'] = pd.to_numeric(df_simple['s3.q6'])"
   ]
  },
  {
   "cell_type": "code",
   "execution_count": 13,
   "id": "7c689710",
   "metadata": {
    "ExecuteTime": {
     "end_time": "2023-06-19T13:16:10.771218Z",
     "start_time": "2023-06-19T13:16:10.764899Z"
    }
   },
   "outputs": [],
   "source": [
    "def oneHotDfWithListInColumns(df):\n",
    "    mlb = MultiLabelBinarizer()\n",
    "    columns = df.columns\n",
    "    \n",
    "    for column in columns:\n",
    "        df = df.join(\n",
    "            pd.DataFrame(\n",
    "                mlb.fit_transform(df.pop(column)), \n",
    "                columns=mlb.classes_, \n",
    "                index=df.index))\n",
    "        \n",
    "    return df"
   ]
  },
  {
   "cell_type": "code",
   "execution_count": 14,
   "id": "634e1a90",
   "metadata": {
    "ExecuteTime": {
     "end_time": "2023-06-19T13:16:10.974211Z",
     "start_time": "2023-06-19T13:16:10.933069Z"
    }
   },
   "outputs": [],
   "source": [
    "df_list = oneHotDfWithListInColumns(df_list)"
   ]
  },
  {
   "cell_type": "code",
   "execution_count": 15,
   "id": "aace8e1b",
   "metadata": {
    "ExecuteTime": {
     "end_time": "2023-06-19T13:16:11.553734Z",
     "start_time": "2023-06-19T13:16:11.545175Z"
    }
   },
   "outputs": [],
   "source": [
    "df_maps = df[columns['ailment_maps']]\n",
    "df_maps = df_maps.fillna('[]')"
   ]
  },
  {
   "cell_type": "code",
   "execution_count": 16,
   "id": "548b2f86",
   "metadata": {
    "ExecuteTime": {
     "end_time": "2023-06-19T13:16:13.606120Z",
     "start_time": "2023-06-19T13:16:13.599242Z"
    }
   },
   "outputs": [],
   "source": [
    "def listOfValueWithoutScale(stringOfDict):\n",
    "    listOfDict = ast.literal_eval(stringOfDict)\n",
    "    listOfValue = []\n",
    "    for feeling in listOfDict:\n",
    "        valueWithoutScale = ''\n",
    "        for key, value in feeling.items():\n",
    "            if key != 'scale':\n",
    "                valueWithoutScale += '.' + value\n",
    "        listOfValue.append(valueWithoutScale[1:])\n",
    "    return listOfValue"
   ]
  },
  {
   "cell_type": "code",
   "execution_count": 17,
   "id": "998915ee",
   "metadata": {
    "ExecuteTime": {
     "end_time": "2023-06-19T13:16:13.802127Z",
     "start_time": "2023-06-19T13:16:13.758077Z"
    }
   },
   "outputs": [],
   "source": [
    "def getListFromStringOfDict(array):\n",
    "    listOfList = []\n",
    "    for stringOfDict in array:\n",
    "        listOfValue = listOfValueWithoutScale(stringOfDict)\n",
    "        listOfList.append(listOfValue)\n",
    "    return listOfList"
   ]
  },
  {
   "cell_type": "code",
   "execution_count": 18,
   "id": "930563b2",
   "metadata": {
    "ExecuteTime": {
     "end_time": "2023-06-19T13:16:16.510289Z",
     "start_time": "2023-06-19T13:16:16.502929Z"
    }
   },
   "outputs": [],
   "source": [
    "def dictOfValueWithScale(stringOfDict, dictToExpand):\n",
    "    listOfDict = ast.literal_eval(stringOfDict)\n",
    "    for feeling in listOfDict:\n",
    "        valueWithoutScale = ''\n",
    "        for key, value in feeling.items():\n",
    "            if key != 'scale':\n",
    "                valueWithoutScale += '.' + value\n",
    "            else:\n",
    "                dictToExpand[valueWithoutScale[1:]] = str(value)\n",
    "    return dictToExpand"
   ]
  },
  {
   "cell_type": "code",
   "execution_count": 19,
   "id": "a05b462e",
   "metadata": {
    "ExecuteTime": {
     "end_time": "2023-06-19T13:16:16.693941Z",
     "start_time": "2023-06-19T13:16:16.652784Z"
    }
   },
   "outputs": [],
   "source": [
    "def getDictFromStringOfDictWithScale(array):\n",
    "    dictOfList = {}\n",
    "    for stringOfDict in array:\n",
    "        dictOfList = dictOfValueWithScale(stringOfDict, dictOfList)\n",
    "    return dictOfList"
   ]
  },
  {
   "cell_type": "code",
   "execution_count": 20,
   "id": "749d152a",
   "metadata": {
    "ExecuteTime": {
     "end_time": "2023-06-19T13:16:16.874279Z",
     "start_time": "2023-06-19T13:16:16.830834Z"
    }
   },
   "outputs": [],
   "source": [
    "def transformToListWithoutScale(df):\n",
    "    for column in df.columns:\n",
    "        df[column] = getListFromStringOfDict(list(df[column]))\n",
    "    return df"
   ]
  },
  {
   "cell_type": "code",
   "execution_count": 21,
   "id": "660a707e",
   "metadata": {
    "ExecuteTime": {
     "end_time": "2023-06-19T13:16:18.673240Z",
     "start_time": "2023-06-19T13:16:18.670951Z"
    }
   },
   "outputs": [],
   "source": [
    "df_maps_without_scale = transformToListWithoutScale(df_maps.copy())"
   ]
  },
  {
   "cell_type": "code",
   "execution_count": 22,
   "id": "a6b52ff1",
   "metadata": {
    "ExecuteTime": {
     "end_time": "2023-06-19T13:16:19.575903Z",
     "start_time": "2023-06-19T13:16:19.567385Z"
    }
   },
   "outputs": [],
   "source": [
    "import numpy as np\n",
    "unique_values = []\n",
    "for column in df_maps_without_scale.columns:\n",
    "    listOfList = []\n",
    "    for listOfValue in df_maps_without_scale[column]:\n",
    "        for value in listOfValue:\n",
    "            listOfList.append(value)\n",
    "    unique_values.append(list(set(listOfList)))\n",
    "unique_values = list(np.concatenate(unique_values).flat)"
   ]
  },
  {
   "cell_type": "code",
   "execution_count": 23,
   "id": "2d7458c1",
   "metadata": {
    "ExecuteTime": {
     "end_time": "2023-06-19T13:16:21.677755Z",
     "start_time": "2023-06-19T13:16:21.669718Z"
    }
   },
   "outputs": [],
   "source": [
    "df_ailment_maps = pd.DataFrame(\n",
    "    data = np.zeros((df.shape[0], len(unique_values))), \n",
    "    index = df.index, \n",
    "    columns = unique_values\n",
    ")"
   ]
  },
  {
   "cell_type": "code",
   "execution_count": 24,
   "id": "ce9fb4a3",
   "metadata": {
    "ExecuteTime": {
     "end_time": "2023-06-19T13:16:21.881997Z",
     "start_time": "2023-06-19T13:16:21.839350Z"
    }
   },
   "outputs": [],
   "source": [
    "translate_values = {\n",
    "    'small': 1,\n",
    "    'medium': 2,\n",
    "    'big': 3,\n",
    "    'None': 1\n",
    "}"
   ]
  },
  {
   "cell_type": "code",
   "execution_count": 25,
   "id": "cfe1355f",
   "metadata": {
    "ExecuteTime": {
     "end_time": "2023-06-19T13:16:23.195893Z",
     "start_time": "2023-06-19T13:16:23.158678Z"
    }
   },
   "outputs": [],
   "source": [
    "for row in df_maps.iterrows():\n",
    "    idx = row[0]\n",
    "    dictOfFillings = getDictFromStringOfDictWithScale(row[1])\n",
    "    for key, value in dictOfFillings.items():\n",
    "        df_ailment_maps.loc[idx][key] = translate_values[value]"
   ]
  },
  {
   "cell_type": "code",
   "execution_count": 26,
   "id": "88e7c546",
   "metadata": {
    "ExecuteTime": {
     "end_time": "2023-06-19T13:16:24.877439Z",
     "start_time": "2023-06-19T13:16:24.868677Z"
    }
   },
   "outputs": [],
   "source": [
    "frames = [df_simple, df_list, df_ailment_maps, df[columns['floats']]]\n",
    "df_finally = pd.concat(frames, axis=1)"
   ]
  },
  {
   "cell_type": "code",
   "execution_count": 27,
   "id": "2440c1d8",
   "metadata": {
    "ExecuteTime": {
     "end_time": "2023-06-19T13:16:28.698316Z",
     "start_time": "2023-06-19T13:16:28.654478Z"
    }
   },
   "outputs": [],
   "source": [
    "df_finally = df_finally.astype(np.float64)"
   ]
  },
  {
   "cell_type": "code",
   "execution_count": 28,
   "id": "f3d0cfd9",
   "metadata": {
    "ExecuteTime": {
     "end_time": "2023-06-19T13:16:28.898086Z",
     "start_time": "2023-06-19T13:16:28.856877Z"
    }
   },
   "outputs": [],
   "source": [
    "frames2 = [df_finally, df[columns['Diagnosis']]]\n",
    "df_finally = pd.concat(frames2, axis=1)"
   ]
  },
  {
   "cell_type": "code",
   "execution_count": 33,
   "id": "bcdae347",
   "metadata": {},
   "outputs": [],
   "source": [
    "df_finally.to_csv('df_finally.csv', index=True)  "
   ]
  }
 ],
 "metadata": {
  "kernelspec": {
   "display_name": "Python 3 (ipykernel)",
   "language": "python",
   "name": "python3"
  },
  "language_info": {
   "codemirror_mode": {
    "name": "ipython",
    "version": 3
   },
   "file_extension": ".py",
   "mimetype": "text/x-python",
   "name": "python",
   "nbconvert_exporter": "python",
   "pygments_lexer": "ipython3",
   "version": "3.11.2"
  }
 },
 "nbformat": 4,
 "nbformat_minor": 5
}
